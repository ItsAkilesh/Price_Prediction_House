{
  "cells": [
    {
      "cell_type": "markdown",
      "metadata": {
        "colab_type": "text",
        "id": "view-in-github"
      },
      "source": [
        "<a href=\"https://colab.research.google.com/github/Kalyanasundaram12/Housing-price-prediction/blob/main/DSC.ipynb\" target=\"_parent\"><img src=\"https://colab.research.google.com/assets/colab-badge.svg\" alt=\"Open In Colab\"/></a>"
      ]
    },
    {
      "cell_type": "code",
      "execution_count": null,
      "metadata": {
        "colab": {
          "base_uri": "https://localhost:8080/"
        },
        "id": "kR2M73L-wABf",
        "outputId": "1ab3dce3-25de-4360-8a2a-3d1e12dc5121"
      },
      "outputs": [],
      "source": [
        "from google.colab import drive\n",
        "drive.mount('/content/gdrive')"
      ]
    },
    {
      "cell_type": "code",
      "execution_count": null,
      "metadata": {
        "id": "dlJ5KMdexRn4"
      },
      "outputs": [],
      "source": [
        "import numpy as np\n",
        "import pickle\n",
        "import pandas as pd\n",
        "import sklearn as skl\n",
        "import seaborn as sns\n",
        "from sklearn import datasets\n",
        "import matplotlib.pyplot as plt\n",
        "from sklearn.model_selection import train_test_split\n",
        "from sklearn.linear_model import LinearRegression, LogisticRegression\n",
        "from sklearn.tree import DecisionTreeRegressor\n",
        "from sklearn.ensemble import RandomForestRegressor\n",
        "from sklearn.preprocessing import LabelEncoder, OrdinalEncoder, StandardScaler\n",
        "from sklearn.metrics import mean_absolute_percentage_error, mean_squared_error, r2_score\n",
        "from sklearn import decomposition"
      ]
    },
    {
      "cell_type": "code",
      "execution_count": null,
      "metadata": {
        "id": "VjPAyHX-xXMw"
      },
      "outputs": [],
      "source": [
        "# Akilesh S 21MIS1167\n",
        "df = pd.read_csv(\"gdrive/MyDrive/Colab Notebooks/housing.csv\")"
      ]
    },
    {
      "cell_type": "code",
      "execution_count": null,
      "metadata": {
        "colab": {
          "base_uri": "https://localhost:8080/"
        },
        "id": "DFof3h6Bx87Q",
        "outputId": "eb2333da-e5a9-4be6-844b-9ae87b43f149"
      },
      "outputs": [],
      "source": [
        "type(df)"
      ]
    },
    {
      "cell_type": "code",
      "execution_count": null,
      "metadata": {
        "colab": {
          "base_uri": "https://localhost:8080/",
          "height": 206
        },
        "id": "3Y2_9wf_yENu",
        "outputId": "71db3fe7-99af-432b-b1d2-d3a8854a4b4e"
      },
      "outputs": [],
      "source": [
        "df.head()"
      ]
    },
    {
      "cell_type": "code",
      "execution_count": null,
      "metadata": {
        "colab": {
          "base_uri": "https://localhost:8080/"
        },
        "id": "zy-QR3layE1R",
        "outputId": "a444b027-dbe8-4aae-fc67-ceb7fea0ca1e"
      },
      "outputs": [],
      "source": [
        "df.shape"
      ]
    },
    {
      "cell_type": "code",
      "execution_count": null,
      "metadata": {
        "id": "eM1fCDi9yLFH"
      },
      "outputs": [],
      "source": [
        "df.dropna(subset=[cols for cols in df.columns], inplace=True)"
      ]
    },
    {
      "cell_type": "code",
      "execution_count": null,
      "metadata": {
        "colab": {
          "base_uri": "https://localhost:8080/"
        },
        "id": "T_Fz9srQy4p-",
        "outputId": "29f7aa4b-874f-45af-cfb3-9197cf2918df"
      },
      "outputs": [],
      "source": [
        "df.shape"
      ]
    },
    {
      "cell_type": "code",
      "execution_count": null,
      "metadata": {
        "id": "Jw7710SQy_JL"
      },
      "outputs": [],
      "source": [
        "corr_df = df.drop(['latitude', 'longitude', 'ocean_proximity'], axis=1)"
      ]
    },
    {
      "cell_type": "code",
      "execution_count": null,
      "metadata": {
        "colab": {
          "base_uri": "https://localhost:8080/"
        },
        "id": "C_RKJ3PFzE2H",
        "outputId": "10dabd7f-fc6d-4e04-ead6-ffc3c1629b35"
      },
      "outputs": [],
      "source": [
        "corr_df.head"
      ]
    },
    {
      "cell_type": "code",
      "execution_count": null,
      "metadata": {
        "colab": {
          "base_uri": "https://localhost:8080/"
        },
        "id": "R479AZiNzM7q",
        "outputId": "13ad277a-e93b-46ac-c303-0d3babed2653"
      },
      "outputs": [],
      "source": [
        "corr_df.corrwith(df['median_house_value'])"
      ]
    },
    {
      "cell_type": "code",
      "execution_count": null,
      "metadata": {
        "colab": {
          "base_uri": "https://localhost:8080/"
        },
        "id": "jt6CWU7izSv0",
        "outputId": "b0388e4e-a1ea-49c4-c709-4ec63096e378"
      },
      "outputs": [],
      "source": [
        "X = df.drop(['median_house_value'], axis=1)\n",
        "Y = df['median_house_value']\n",
        "type(Y)"
      ]
    },
    {
      "cell_type": "code",
      "execution_count": null,
      "metadata": {
        "colab": {
          "base_uri": "https://localhost:8080/",
          "height": 317
        },
        "id": "J2u_i_SIziMn",
        "outputId": "41585491-2771-4deb-96d2-513b978e78e5"
      },
      "outputs": [],
      "source": [
        "df.hist(column='housing_median_age', bins=50)"
      ]
    },
    {
      "cell_type": "code",
      "execution_count": null,
      "metadata": {
        "colab": {
          "base_uri": "https://localhost:8080/",
          "height": 317
        },
        "id": "alxZZZkVznYi",
        "outputId": "02d5ea8c-04c5-4c74-dad8-aa3f3a61c23b"
      },
      "outputs": [],
      "source": [
        "df.hist(column='total_rooms', bins=50)"
      ]
    },
    {
      "cell_type": "code",
      "execution_count": null,
      "metadata": {
        "colab": {
          "base_uri": "https://localhost:8080/",
          "height": 317
        },
        "id": "b5D6xjkmzrzU",
        "outputId": "399e99cb-5fdf-4070-d7aa-56b9f995b3eb"
      },
      "outputs": [],
      "source": [
        "df.hist(column='total_bedrooms', bins=50)"
      ]
    },
    {
      "cell_type": "code",
      "execution_count": null,
      "metadata": {
        "colab": {
          "base_uri": "https://localhost:8080/",
          "height": 317
        },
        "id": "Y7VpjjBV0dqy",
        "outputId": "354dd0fb-981a-428a-8f45-f6230e36f725"
      },
      "outputs": [],
      "source": [
        "df.hist(column='population', bins=50)"
      ]
    },
    {
      "cell_type": "code",
      "execution_count": null,
      "metadata": {
        "colab": {
          "base_uri": "https://localhost:8080/",
          "height": 317
        },
        "id": "rXnjfAxJ0zph",
        "outputId": "62947475-34b7-4423-df5b-c85556984b97"
      },
      "outputs": [],
      "source": [
        "df.hist(column='households', bins=50)"
      ]
    },
    {
      "cell_type": "code",
      "execution_count": null,
      "metadata": {
        "colab": {
          "base_uri": "https://localhost:8080/",
          "height": 317
        },
        "id": "eI9n4Ltp01Qz",
        "outputId": "105064d8-1375-4fe1-e3aa-94ac6e55a78d"
      },
      "outputs": [],
      "source": [
        "df.hist(column='median_income', bins=50)"
      ]
    },
    {
      "cell_type": "code",
      "execution_count": null,
      "metadata": {
        "colab": {
          "base_uri": "https://localhost:8080/",
          "height": 317
        },
        "id": "NLb2kFcc04o0",
        "outputId": "8d2ad9f1-707d-48cd-aaf0-8ed050146466"
      },
      "outputs": [],
      "source": [
        "df.hist(column='median_house_value', bins=50)"
      ]
    },
    {
      "cell_type": "code",
      "execution_count": null,
      "metadata": {
        "colab": {
          "base_uri": "https://localhost:8080/",
          "height": 300
        },
        "id": "s6KO4XpN07xC",
        "outputId": "ae39a459-f52a-470f-ece2-519da54d17c5"
      },
      "outputs": [],
      "source": [
        "df.describe()"
      ]
    },
    {
      "cell_type": "code",
      "execution_count": null,
      "metadata": {
        "colab": {
          "base_uri": "https://localhost:8080/",
          "height": 287
        },
        "id": "q79dtd270_HM",
        "outputId": "ce562368-ad71-4144-9c1a-a5fd33f81e4f"
      },
      "outputs": [],
      "source": [
        "df = pd.get_dummies(df)\n",
        "df.head()"
      ]
    },
    {
      "cell_type": "code",
      "execution_count": null,
      "metadata": {
        "colab": {
          "base_uri": "https://localhost:8080/"
        },
        "id": "wDhh--N91CXT",
        "outputId": "edb29dc3-4c31-47ce-aeef-3beb349f5e87"
      },
      "outputs": [],
      "source": [
        "X = df.drop(['median_house_value'], axis=1)\n",
        "Y = df['median_house_value']\n",
        "\n",
        "X_train, X_test, Y_train, Y_test = train_test_split(X, Y, test_size=0.3)\n",
        "Y_train = Y_train.to_numpy()\n",
        "Y_test = Y_test.to_numpy()\n",
        "Y_train = Y_train.reshape(-1, 1)\n",
        "Y_test = Y_test.reshape(-1, 1)\n",
        "Y_train\n",
        "Y_test"
      ]
    },
    {
      "cell_type": "code",
      "execution_count": null,
      "metadata": {
        "colab": {
          "base_uri": "https://localhost:8080/"
        },
        "id": "hVPa70i41FG_",
        "outputId": "1615ea82-332a-4453-b44b-166f5f7cb916"
      },
      "outputs": [],
      "source": [
        "scaler1 = StandardScaler()\n",
        "scaler2 = StandardScaler()\n",
        "scaler1\n",
        "scaler2"
      ]
    },
    {
      "cell_type": "code",
      "execution_count": null,
      "metadata": {
        "id": "AYTD6Tfr5K34"
      },
      "outputs": [],
      "source": [
        "X_train = scaler1.fit_transform(X_train)\n",
        "Y_train = scaler2.fit_transform(Y_train)\n"
      ]
    },
    {
      "cell_type": "code",
      "execution_count": null,
      "metadata": {
        "id": "cf3SgRCd5P9q"
      },
      "outputs": [],
      "source": [
        "X_test = scaler1.transform(X_test)\n",
        "Y_test = scaler2.transform(Y_test)"
      ]
    },
    {
      "cell_type": "code",
      "execution_count": null,
      "metadata": {
        "colab": {
          "base_uri": "https://localhost:8080/"
        },
        "id": "_yu3RwVL7w3d",
        "outputId": "8f70adb8-d3af-4c7e-b10f-848133334a7c"
      },
      "outputs": [],
      "source": [
        "X_test"
      ]
    },
    {
      "cell_type": "code",
      "execution_count": null,
      "metadata": {
        "id": "Hvu8URD18Jj7"
      },
      "outputs": [],
      "source": [
        "reg = LinearRegression()"
      ]
    },
    {
      "cell_type": "code",
      "execution_count": null,
      "metadata": {
        "colab": {
          "base_uri": "https://localhost:8080/"
        },
        "id": "aBp8j6x09R09",
        "outputId": "27aceb0a-d892-4b94-ae6c-461d008ecae7"
      },
      "outputs": [],
      "source": [
        "reg.fit(X_train, Y_train)"
      ]
    },
    {
      "cell_type": "code",
      "execution_count": null,
      "metadata": {
        "id": "3x7zRzkg9VqU"
      },
      "outputs": [],
      "source": [
        "y_preds = reg.predict(X_test)"
      ]
    },
    {
      "cell_type": "code",
      "execution_count": null,
      "metadata": {
        "colab": {
          "base_uri": "https://localhost:8080/"
        },
        "id": "Lpz6FIYJ9heZ",
        "outputId": "670b6692-ee14-4dbf-e8dc-5ac08da6a88c"
      },
      "outputs": [],
      "source": [
        "y_preds = scaler2.inverse_transform(y_preds)\n",
        "y_preds"
      ]
    },
    {
      "cell_type": "code",
      "execution_count": null,
      "metadata": {
        "id": "n7nBcUFeRqiT"
      },
      "outputs": [],
      "source": [
        "pca = decomposition.PCA(n_components=2)\n",
        "components = pca.fit_transform(X_train)"
      ]
    },
    {
      "cell_type": "code",
      "execution_count": null,
      "metadata": {
        "colab": {
          "base_uri": "https://localhost:8080/",
          "height": 283
        },
        "id": "HoADD8G8SaWY",
        "outputId": "594d1ce7-17a2-4fde-868c-51b294c6e75b"
      },
      "outputs": [],
      "source": [
        "plt.scatter(components[:,0], components[:,1])"
      ]
    },
    {
      "cell_type": "code",
      "execution_count": null,
      "metadata": {
        "colab": {
          "base_uri": "https://localhost:8080/"
        },
        "id": "FUQWHVL1VQuq",
        "outputId": "465dd672-d6de-4aed-d628-32337a3a4e07"
      },
      "outputs": [],
      "source": [
        "pca.explained_variance_ratio_"
      ]
    },
    {
      "cell_type": "code",
      "execution_count": null,
      "metadata": {
        "colab": {
          "base_uri": "https://localhost:8080/"
        },
        "id": "gFKDbTQBXRHm",
        "outputId": "b0fd0724-a755-41b0-dd02-c9c68745a939"
      },
      "outputs": [],
      "source": [
        "pca.singular_values_"
      ]
    },
    {
      "cell_type": "code",
      "execution_count": null,
      "metadata": {
        "colab": {
          "base_uri": "https://localhost:8080/",
          "height": 283
        },
        "id": "8djP4lRfXbRo",
        "outputId": "ec1b3b74-e8dd-4cb7-98f5-3c42d34e9d66"
      },
      "outputs": [],
      "source": [
        "plt.scatter(Y_test, y_preds)"
      ]
    },
    {
      "cell_type": "code",
      "execution_count": null,
      "metadata": {
        "colab": {
          "base_uri": "https://localhost:8080/"
        },
        "id": "HHguvPH9XwJx",
        "outputId": "8da5277b-b6e5-421b-b6a4-2ae829dfa4aa"
      },
      "outputs": [],
      "source": [
        "mean_absolute_percentage_error(Y_test, y_preds)"
      ]
    },
    {
      "cell_type": "code",
      "execution_count": null,
      "metadata": {
        "colab": {
          "base_uri": "https://localhost:8080/"
        },
        "id": "ZeC7D_n1YdYh",
        "outputId": "ef6f8fb5-198f-4477-ed3b-8ea40dc91cee"
      },
      "outputs": [],
      "source": [
        "mean_squared_error(Y_test, y_preds)"
      ]
    },
    {
      "cell_type": "code",
      "execution_count": null,
      "metadata": {
        "colab": {
          "base_uri": "https://localhost:8080/"
        },
        "id": "YTUi4H_7Yml-",
        "outputId": "c5243ca9-7ac7-4538-ec65-9bc243298665"
      },
      "outputs": [],
      "source": [
        "r2_score(Y_test, y_preds)"
      ]
    },
    {
      "cell_type": "code",
      "execution_count": null,
      "metadata": {
        "id": "VzS1EphjY-0v"
      },
      "outputs": [],
      "source": []
    }
  ],
  "metadata": {
    "colab": {
      "authorship_tag": "ABX9TyPRVA+iSDqzJELQE3xeENxs",
      "include_colab_link": true,
      "provenance": []
    },
    "kernelspec": {
      "display_name": "Python 3",
      "language": "python",
      "name": "python3"
    },
    "language_info": {
      "name": "python",
      "version": "3.11.1 (tags/v3.11.1:a7a450f, Dec  6 2022, 19:58:39) [MSC v.1934 64 bit (AMD64)]"
    },
    "vscode": {
      "interpreter": {
        "hash": "dc08cec5a58c5e930140a298fe509548745e44a15c15a0a595ded45c0c311077"
      }
    }
  },
  "nbformat": 4,
  "nbformat_minor": 0
}
